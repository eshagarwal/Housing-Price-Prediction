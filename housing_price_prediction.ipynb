{
 "cells": [
  {
   "cell_type": "markdown",
   "id": "6b89976b",
   "metadata": {},
   "source": [
    "## Housing Price Prediction"
   ]
  },
  {
   "cell_type": "markdown",
   "id": "a65f8f1f",
   "metadata": {},
   "source": []
  }
 ],
 "metadata": {
  "kernelspec": {
   "display_name": ".venv",
   "language": "python",
   "name": "python3"
  },
  "language_info": {
   "name": "python",
   "version": "3.10.0"
  }
 },
 "nbformat": 4,
 "nbformat_minor": 5
}
